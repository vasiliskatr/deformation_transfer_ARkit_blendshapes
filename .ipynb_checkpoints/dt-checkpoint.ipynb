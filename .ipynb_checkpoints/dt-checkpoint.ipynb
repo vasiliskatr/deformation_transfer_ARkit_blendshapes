{
 "cells": [
  {
   "cell_type": "code",
   "execution_count": null,
   "metadata": {},
   "outputs": [],
   "source": [
    "import os\n",
    "import time\n",
    "from IPython.display import clear_output\n",
    "from tqdm import tqdm\n",
    "\n",
    "import numpy as np\n",
    "import scipy.sparse as sp\n",
    "from scipy.sparse.linalg import spsolve\n",
    "from math import sqrt, acos, cos, sin\n",
    "\n",
    "import local_packages.deformationTransfer as dt\n",
    "import local_packages.tools3d_ as t3d\n",
    "\n",
    "\n",
    "import landmarks.LICT_narrow_r as LICT_narrow\n",
    "import landmarks.LARkit as LARkit"
   ]
  },
  {
   "cell_type": "code",
   "execution_count": null,
   "metadata": {},
   "outputs": [],
   "source": [
    "path_target_face = 'data/Neutral.obj'\n",
    "path_NRICP = 'data/ictinner2ARkit.obj'\n",
    "path_in = 'data/ARKit_blendShapes/' # directory of source blend shapes\n",
    "path_out = 'dt_results/' # directory of output blend shapes from dt\n",
    "\n"
   ]
  },
  {
   "cell_type": "code",
   "execution_count": null,
   "metadata": {},
   "outputs": [],
   "source": [
    "# read landmarks from the source and target faces\n",
    "target_lm = LICT_narrow.LM[0:9]\n",
    "source_lm = LARkit.LM[0:9]"
   ]
  },
  {
   "cell_type": "markdown",
   "metadata": {},
   "source": [
    "## Read target face (original + NRICP) and the source neutral face - check shapes of the matrices are ok"
   ]
  },
  {
   "cell_type": "code",
   "execution_count": null,
   "metadata": {
    "scrolled": false
   },
   "outputs": [],
   "source": [
    "source_vertices, source_faces, source_quads, _ = t3d.Read(path_in + 'Neutral.obj',QuadMode = True)\n",
    "target_vertices, target_faces, target_quads, _ = t3d.Read(path_target_face,QuadMode = True)\n",
    "# we use Wrap3D to create this\n",
    "deformed_target_vertices, _ ,_ , _ = t3d.Read(path_NRICP,QuadMode = True)\n",
    "\n",
    "\n",
    "print(\"target_vertices->\", target_vertices.shape)\n",
    "print(\"target_faces->\", target_faces.shape)\n",
    "t3d.ShowMesh(target_vertices, target_faces)\n",
    "print(\"deformed_vertices->\", deformed_target_vertices.shape)\n",
    "t3d.ShowMesh(deformed_target_vertices, target_faces)\n",
    "print(\"\\nsource_vertices->\", source_vertices.shape) # Check the shapes of the source and target topologies\n",
    "print(\"source_faces->\", source_faces.shape)\n",
    "t3d.ShowMesh(source_vertices, source_faces)"
   ]
  },
  {
   "cell_type": "markdown",
   "metadata": {},
   "source": [
    "## Rigid alignment of target face to our source face in order to find good correspondeces and get to the right scale before Deformation Trasnfer\n",
    "\n",
    "### Check visually that the NRICP match is good\n"
   ]
  },
  {
   "cell_type": "code",
   "execution_count": null,
   "metadata": {
    "scrolled": false
   },
   "outputs": [],
   "source": [
    "target_lm = LICT_narrow.LM[0:5]\n",
    "source_lm = LARkit.LM[0:5]\n",
    "\n",
    "# align the deformed target face (NRICP) to find good correspondences with the source face mesh\n",
    "print(\"Alignment of deformed target face\")\n",
    "deformed_target_vertices = t3d.align_target_to_source(deformed_target_vertices, target_faces, target_lm, source_vertices, source_faces, source_lm)\n",
    "t3d.Show2Meshes(deformed_target_vertices, target_faces, source_vertices, source_faces)\n",
    "# align original target face for a good deformation transfer (same scale and orientation as the source face mesh)\n",
    "print(\"Alignment of original target face\")\n",
    "target_vertices = t3d.align_target_to_source(target_vertices, target_faces, target_lm, source_vertices, source_faces, source_lm)\n",
    "t3d.Show2Meshes(target_vertices, target_faces, source_vertices, source_faces)\n",
    "\n"
   ]
  },
  {
   "cell_type": "code",
   "execution_count": null,
   "metadata": {},
   "outputs": [],
   "source": [
    "# make all data in [:,3] format\n",
    "source_vertices = source_vertices.T\n",
    "source_faces = source_faces.T\n",
    "target_vertices = target_vertices.T\n",
    "target_faces = target_faces.T\n",
    "deformed_target_vertices = deformed_target_vertices.T\n"
   ]
  },
  {
   "cell_type": "code",
   "execution_count": null,
   "metadata": {
    "scrolled": false
   },
   "outputs": [],
   "source": [
    "start_time_1 = time.time()\n",
    "\n",
    "print (\"Compute source_v4, target_v4 and taget_V_inverse...\")\n",
    "start_time = time.time()\n",
    "target_v4 = dt.compute_v4 (target_vertices, target_faces)\n",
    "source_v4 = dt.compute_v4 (source_vertices, source_faces) \n",
    "target_V_inverse = dt.compute_V_inverse(target_vertices, target_faces, target_v4)\n",
    "print (\"done in\",(time.time() - start_time), \"sec\")\n",
    "\n",
    "print (\"Generating matrices...\")\n",
    "# 'Deformation smoothness, ES, indicates that the transformations for adjacent triangles should be equal.'\n",
    "start_time = time.time()\n",
    "Es_ATA, Es_ATc = dt.makeEs_ATA_ATc(target_vertices, target_faces, target_V_inverse)\n",
    "print (\"Es :\",(time.time() - start_time), \"sec\")\n",
    "\n",
    "# 'Deformation identity, EI , is minimized when all transformations are equal to the identity matrix:'\n",
    "start_time = time.time()\n",
    "Ei_ATA, Ei_ATc = dt.makeEi_ATA_ATc(target_vertices, target_faces, target_V_inverse)\n",
    "print (\"Ei :\",(time.time() - start_time), \"sec\")\n",
    "\n",
    "start_time = time.time()\n",
    "correspondences = dt.get_correspondece_faces (source_vertices, source_faces, deformed_target_vertices, target_faces)\n",
    "print (\"\\ndone in \",(time.time() - start_time), \"sec\")\n",
    "\n",
    "print (\"Generating deformation transfer matrices...\")\n",
    "# 'The closest valid point term, Ed, indicates that the position of each vertex of the source mesh should be equal to the closest valid point on the target mesh.'\n",
    "start_time = time.time()\n",
    "Ed_A = dt.makeEd_A(correspondences, target_vertices, target_faces, target_V_inverse)\n",
    "Ed_ATA = np.dot(Ed_A.T, Ed_A)\n",
    "elapsed_time = time.time() - start_time\n",
    "print (\"Ed_A, Ed_ATA :\", elapsed_time, \"sec\")\n",
    "\n",
    "elapsed_time = time.time() - start_time_1\n",
    "print (\"\\nOne-off computation finished in\", elapsed_time, \"sec\\n\\n\")\n",
    "\n",
    "##################### The above are computed only once. \n",
    "##################### For every new deformation we want to trafser, we compute from here onwards only.\n",
    "########################## BATCH PROCESS ########################################\n",
    "\n",
    "start_time_2 = time.time()\n",
    "print('\\nBatch process ')\n",
    "\n",
    "source_data = os.scandir(path_in)\n",
    "n_data = len([blend_shape for blend_shape in os.listdir(path_in) if os.path.splitext(blend_shape)[1] == '.obj']) #number of data points to process\n",
    "print (\"Applying Deformation Transfer to \", n_data, \"blend shapes...\\n\")\n",
    "start_time_all = time.time()\n",
    "\n",
    "for blend_shape in source_data:\n",
    "    name, ext = os.path.splitext(blend_shape)\n",
    "    name = name.split(\"/\")\n",
    "    if ext == '.obj':  # read only the .obj files from the source directory\n",
    "        print ('\\nworking on', blend_shape.name)\n",
    "        objpath = (path_in+ blend_shape.name)\n",
    "        source_vertices2, _ , _, _ = t3d.Read(objpath,QuadMode = True)\n",
    " \n",
    "        \n",
    "        # Allignement pre-deformation transfer (not applicable - it is take care of in pre-precessing)\n",
    "        source_vertices2 = source_vertices2.T\n",
    "        #source_vertices2 = t3dtools_3d.align_target_to_source(source_vertices2.T, source_faces.T, skull_landmaks_source, source_vertices.T, source_faces.T, skull_landmaks_source).T\n",
    "      \n",
    "        # compute new source rotation matrix\n",
    "        source_rotation = dt.make_source_rotation_matrix (source_vertices, source_faces, source_v4, source_vertices2, source_faces)\n",
    "        \n",
    "        # Backsubstitution step\n",
    "        print (\"Make Ed_ATc...   \")\n",
    "        start_time = time.time()\n",
    "        # 'The closest valid point term, Ed, indicates that the position of each vertex of the source mesh should be equal to the closest valid point on the target mesh.'\n",
    "        start_time = time.time()\n",
    "        Ed_ATc = dt.makeEd_ATc(correspondences, source_rotation, Ed_A)\n",
    "        elapsed_time = time.time() - start_time\n",
    "        print (\"done in \", elapsed_time, \"sec\")\n",
    "        \n",
    "        start_time_solution = time.time()\n",
    "        print (\"Solving Matrix system...\")\n",
    "        wd=1; wi=0.01; ws=0.01;     # standard: wd=1; wi=0.001; ws=0.01; we choose very low identity weight to transfer deformations accurately\n",
    "                                         #This results in some global unwanted deformations which we fix in post-process\n",
    "\n",
    "        ATA_sum = wd*Ed_ATA + wi*Ei_ATA + ws*Es_ATA\n",
    "        ATc_sum = wd*Ed_ATc + wi*Ei_ATc + ws*Es_ATc\n",
    "\n",
    "        x = spsolve(ATA_sum, ATc_sum)\n",
    "\n",
    "        elapsed_time = time.time() - start_time_solution\n",
    "        print (\"\\n calculation was finished in\", elapsed_time, \"sec\")\n",
    "        target_vertices2 = x[0:len(target_vertices)*3].reshape(len(target_vertices), 3)\n",
    "        \n",
    "        # save\n",
    "        if not os.path.exists(path_out):\n",
    "            os.makedirs(path_out)\n",
    "        t3d.SaveObj(target_vertices2.T, target_faces.T, path_target_face, save_destination = path_out + name[-1] + \".obj\" , CM=True)\n",
    "        \n",
    "        \n",
    "        \n",
    "elapsed_time = time.time() - start_time_2\n",
    "print (\"\\n\\n Batch-process calculations finished in\", elapsed_time, \"sec\")\n",
    "\n"
   ]
  },
  {
   "cell_type": "code",
   "execution_count": null,
   "metadata": {},
   "outputs": [],
   "source": []
  }
 ],
 "metadata": {
  "kernelspec": {
   "display_name": "deftran",
   "language": "python",
   "name": "deftran"
  },
  "language_info": {
   "codemirror_mode": {
    "name": "ipython",
    "version": 3
   },
   "file_extension": ".py",
   "mimetype": "text/x-python",
   "name": "python",
   "nbconvert_exporter": "python",
   "pygments_lexer": "ipython3",
   "version": "3.8.5"
  }
 },
 "nbformat": 4,
 "nbformat_minor": 4
}
